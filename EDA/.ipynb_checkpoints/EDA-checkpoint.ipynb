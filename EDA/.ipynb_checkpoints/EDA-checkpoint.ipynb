{
 "cells": [
  {
   "cell_type": "code",
   "execution_count": 3,
   "metadata": {
    "collapsed": false
   },
   "outputs": [
    {
     "name": "stdout",
     "output_type": "stream",
     "text": [
      "Populating the interactive namespace from numpy and matplotlib\n"
     ]
    }
   ],
   "source": [
    "import pandas as pd\n",
    "import numpy as np\n",
    "import math\n",
    "import datetime\n",
    "import matplotlib.pyplot as plt\n",
    "%pylab inline\n",
    "from collections import Counter\n",
    "import seaborn as sns"
   ]
  },
  {
   "cell_type": "code",
   "execution_count": 31,
   "metadata": {
    "collapsed": false
   },
   "outputs": [],
   "source": [
    "train = pd.read_csv(\"train_starting.csv\")\n",
    "test = pd.read_csv(\"test_starting.csv\")"
   ]
  },
  {
   "cell_type": "code",
   "execution_count": 5,
   "metadata": {
    "collapsed": false
   },
   "outputs": [
    {
     "data": {
      "text/plain": [
       "Index([u'Unnamed: 0', u'id', u'date_account_created',\n",
       "       u'timestamp_first_active', u'date_first_booking', u'gender', u'age',\n",
       "       u'signup_method', u'signup_flow', u'language', u'affiliate_channel',\n",
       "       u'affiliate_provider', u'first_affiliate_tracked', u'signup_app',\n",
       "       u'first_device_type', u'first_browser', u'country_destination',\n",
       "       u'lag_account_created', u'lag_first_active',\n",
       "       u'lag_account_created_first_active', u'bookings',\n",
       "       u'population_in_thousands', u'sum_secs_elapsed', u'counts'],\n",
       "      dtype='object')"
      ]
     },
     "execution_count": 5,
     "metadata": {},
     "output_type": "execute_result"
    }
   ],
   "source": [
    "train.columns"
   ]
  },
  {
   "cell_type": "code",
   "execution_count": 17,
   "metadata": {
    "collapsed": false
   },
   "outputs": [],
   "source": [
    "#Turn training data that are dates into timestamps\n",
    "\n",
    "train.date_account_created = pd.to_datetime(train.date_account_created)\n",
    "train.timestamp_first_active = pd.to_datetime(train.timestamp_first_active)\n",
    "train.date_first_booking = pd.to_datetime(train.date_first_booking)"
   ]
  },
  {
   "cell_type": "code",
   "execution_count": 22,
   "metadata": {
    "collapsed": false
   },
   "outputs": [],
   "source": [
    "# y is the number of days between when an account was created and date of first booking\n",
    "\n",
    "x = (train.date_first_booking - train.date_account_created)\n",
    "\n",
    "y = x.apply(lambda x: x if pd.isnull(x) else x.days)"
   ]
  },
  {
   "cell_type": "code",
   "execution_count": 25,
   "metadata": {
    "collapsed": false
   },
   "outputs": [
    {
     "data": {
      "text/plain": [
       "0          NaT\n",
       "1          NaT\n",
       "2          -57\n",
       "3          278\n",
       "4         -208\n",
       "5            1\n",
       "6            3\n",
       "7           10\n",
       "8          206\n",
       "9            0\n",
       "10           2\n",
       "11         NaT\n",
       "12          13\n",
       "13         NaT\n",
       "14         NaT\n",
       "15           1\n",
       "16         NaT\n",
       "17           2\n",
       "18         NaT\n",
       "19           0\n",
       "20           8\n",
       "21           1\n",
       "22           0\n",
       "23         NaT\n",
       "24         NaT\n",
       "25           3\n",
       "26         NaT\n",
       "27          10\n",
       "28           0\n",
       "29           6\n",
       "          ... \n",
       "213421     NaT\n",
       "213422     NaT\n",
       "213423     NaT\n",
       "213424     NaT\n",
       "213425     NaT\n",
       "213426     NaT\n",
       "213427     NaT\n",
       "213428     NaT\n",
       "213429     NaT\n",
       "213430     NaT\n",
       "213431     NaT\n",
       "213432     NaT\n",
       "213433     NaT\n",
       "213434     NaT\n",
       "213435     NaT\n",
       "213436     NaT\n",
       "213437     NaT\n",
       "213438     NaT\n",
       "213439     259\n",
       "213440     NaT\n",
       "213441      44\n",
       "213442     NaT\n",
       "213443      13\n",
       "213444     NaT\n",
       "213445       2\n",
       "213446     NaT\n",
       "213447     NaT\n",
       "213448     NaT\n",
       "213449     NaT\n",
       "213450     NaT\n",
       "dtype: object"
      ]
     },
     "execution_count": 25,
     "metadata": {},
     "output_type": "execute_result"
    }
   ],
   "source": [
    "y"
   ]
  },
  {
   "cell_type": "code",
   "execution_count": 28,
   "metadata": {
    "collapsed": false
   },
   "outputs": [
    {
     "data": {
      "text/plain": [
       "<matplotlib.text.Text at 0x1128adc50>"
      ]
     },
     "execution_count": 28,
     "metadata": {},
     "output_type": "execute_result"
    },
    {
     "data": {
      "image/png": "[encoded data removed]",
      "text/plain": [
       "<matplotlib.figure.Figure at 0x112af98d0>"
      ]
     },
     "metadata": {},
     "output_type": "display_data"
    }
   ],
   "source": [
    "#Distribution of the difference between date of first booking and account created.\n",
    "\n",
    "plt.style.use('ggplot')\n",
    "y.hist(bins = 30)\n",
    "plt.xlabel('Time between date of first booking and account created')\n",
    "plt.ylabel('Frequency')\n",
    "plt.title('Distribution of difference between date of first booking and account created')"
   ]
  }
 ],
 "metadata": {
  "kernelspec": {
   "display_name": "Python 2",
   "language": "python",
   "name": "python2"
  },
  "language_info": {
   "codemirror_mode": {
    "name": "ipython",
    "version": 2
   },
   "file_extension": ".py",
   "mimetype": "text/x-python",
   "name": "python",
   "nbconvert_exporter": "python",
   "pygments_lexer": "ipython2",
   "version": "2.7.11"
  }
 },
 "nbformat": 4,
 "nbformat_minor": 0
}
